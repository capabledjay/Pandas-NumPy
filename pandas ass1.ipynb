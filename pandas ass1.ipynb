{
 "cells": [
  {
   "cell_type": "markdown",
   "id": "679ab818",
   "metadata": {},
   "source": [
    "### Question\n",
    "    #use us_births data to compute the following using np:\n",
    "    #extract the year, gender and births column from the data\n",
    "    #compute the aggregation of sum of total birth, sum of female birth and sum of male birth, mean and median\n",
    "    #compute the maximum births and minimum births\n",
    "    #indicate the gender with minimum birth and maximum birth\n",
    "    #indicate the year with minimum birth and maximum birth"
   ]
  },
  {
   "cell_type": "code",
   "execution_count": 93,
   "id": "2ef258ad",
   "metadata": {},
   "outputs": [],
   "source": [
    "import numpy as np\n",
    "import pandas as pd\n"
   ]
  },
  {
   "cell_type": "code",
   "execution_count": 155,
   "id": "a2408e5a",
   "metadata": {},
   "outputs": [
    {
     "data": {
      "text/html": [
       "<div>\n",
       "<style scoped>\n",
       "    .dataframe tbody tr th:only-of-type {\n",
       "        vertical-align: middle;\n",
       "    }\n",
       "\n",
       "    .dataframe tbody tr th {\n",
       "        vertical-align: top;\n",
       "    }\n",
       "\n",
       "    .dataframe thead th {\n",
       "        text-align: right;\n",
       "    }\n",
       "</style>\n",
       "<table border=\"1\" class=\"dataframe\">\n",
       "  <thead>\n",
       "    <tr style=\"text-align: right;\">\n",
       "      <th></th>\n",
       "      <th>year</th>\n",
       "      <th>gender</th>\n",
       "      <th>births</th>\n",
       "    </tr>\n",
       "  </thead>\n",
       "  <tbody>\n",
       "    <tr>\n",
       "      <th>0</th>\n",
       "      <td>1969</td>\n",
       "      <td>F</td>\n",
       "      <td>4046</td>\n",
       "    </tr>\n",
       "    <tr>\n",
       "      <th>1</th>\n",
       "      <td>1969</td>\n",
       "      <td>M</td>\n",
       "      <td>4440</td>\n",
       "    </tr>\n",
       "    <tr>\n",
       "      <th>2</th>\n",
       "      <td>1969</td>\n",
       "      <td>F</td>\n",
       "      <td>4454</td>\n",
       "    </tr>\n",
       "    <tr>\n",
       "      <th>3</th>\n",
       "      <td>1969</td>\n",
       "      <td>M</td>\n",
       "      <td>4548</td>\n",
       "    </tr>\n",
       "    <tr>\n",
       "      <th>4</th>\n",
       "      <td>1969</td>\n",
       "      <td>F</td>\n",
       "      <td>4548</td>\n",
       "    </tr>\n",
       "    <tr>\n",
       "      <th>...</th>\n",
       "      <td>...</td>\n",
       "      <td>...</td>\n",
       "      <td>...</td>\n",
       "    </tr>\n",
       "    <tr>\n",
       "      <th>15542</th>\n",
       "      <td>2008</td>\n",
       "      <td>M</td>\n",
       "      <td>183219</td>\n",
       "    </tr>\n",
       "    <tr>\n",
       "      <th>15543</th>\n",
       "      <td>2008</td>\n",
       "      <td>F</td>\n",
       "      <td>158939</td>\n",
       "    </tr>\n",
       "    <tr>\n",
       "      <th>15544</th>\n",
       "      <td>2008</td>\n",
       "      <td>M</td>\n",
       "      <td>165468</td>\n",
       "    </tr>\n",
       "    <tr>\n",
       "      <th>15545</th>\n",
       "      <td>2008</td>\n",
       "      <td>F</td>\n",
       "      <td>173215</td>\n",
       "    </tr>\n",
       "    <tr>\n",
       "      <th>15546</th>\n",
       "      <td>2008</td>\n",
       "      <td>M</td>\n",
       "      <td>181235</td>\n",
       "    </tr>\n",
       "  </tbody>\n",
       "</table>\n",
       "<p>15547 rows × 3 columns</p>\n",
       "</div>"
      ],
      "text/plain": [
       "       year gender  births\n",
       "0      1969      F    4046\n",
       "1      1969      M    4440\n",
       "2      1969      F    4454\n",
       "3      1969      M    4548\n",
       "4      1969      F    4548\n",
       "...     ...    ...     ...\n",
       "15542  2008      M  183219\n",
       "15543  2008      F  158939\n",
       "15544  2008      M  165468\n",
       "15545  2008      F  173215\n",
       "15546  2008      M  181235\n",
       "\n",
       "[15547 rows x 3 columns]"
      ]
     },
     "execution_count": 155,
     "metadata": {},
     "output_type": "execute_result"
    }
   ],
   "source": [
    "birth = pd.read_csv('C:\\\\Users\\\\AYODEJI\\\\Desktop\\\\Numpy class\\\\Datasets - Copy\\\\us_births.csv')\n",
    "one=birth.drop([\"month\",\"day\"], axis = 1)\n",
    "one"
   ]
  },
  {
   "cell_type": "code",
   "execution_count": 42,
   "id": "7c6f6f66",
   "metadata": {},
   "outputs": [
    {
     "name": "stdout",
     "output_type": "stream",
     "text": [
      "sum of total birth: 151774378\n"
     ]
    }
   ],
   "source": [
    "print(\"sum of total birth:\",np.sum( birth[\"births\"]))\n"
   ]
  },
  {
   "cell_type": "code",
   "execution_count": 136,
   "id": "2fe34f04",
   "metadata": {
    "scrolled": false
   },
   "outputs": [
    {
     "name": "stdout",
     "output_type": "stream",
     "text": [
      "sum of female birth is >> 74035823\n",
      "mean of female birth is >> 9521.067772633745\n",
      "median of female birth is >> 4688.5\n"
     ]
    }
   ],
   "source": [
    "data = one[(one[\"gender\"] == \"F\")]\n",
    "data\n",
    "print(\"sum of female birth is >>\", data[\"births\"].sum())\n",
    "print(\"mean of female birth is >>\", data[\"births\"].mean())\n",
    "print(\"median of female birth is >>\", data[\"births\"].median())"
   ]
  },
  {
   "cell_type": "code",
   "execution_count": 161,
   "id": "57403bb3",
   "metadata": {
    "scrolled": false
   },
   "outputs": [
    {
     "name": "stdout",
     "output_type": "stream",
     "text": [
      "sum of male birth is >> 77738555\n",
      "mean of male birth is >> 10003.674559258783\n",
      "median of male birth is >> 4938.0\n"
     ]
    }
   ],
   "source": [
    "data1 = one[(one[\"gender\"] == \"M\")]\n",
    "data1\n",
    "print(\"sum of male birth is >>\", data1[\"births\"].sum())\n",
    "print(\"mean of male birth is >>\", data1[\"births\"].mean())\n",
    "print(\"median of male birth is >>\", data1[\"births\"].median())"
   ]
  },
  {
   "cell_type": "code",
   "execution_count": 163,
   "id": "31d2dce3",
   "metadata": {},
   "outputs": [
    {
     "name": "stdout",
     "output_type": "stream",
     "text": [
      "the highiest number of births within a year is >> 199622\n",
      "the lowestest number of births within a year is >> 1\n"
     ]
    }
   ],
   "source": [
    "print(\"the highiest number of births within a year is >>\",one[\"births\"].max())\n",
    "print(\"the lowestest number of births within a year is >>\",one[\"births\"].min())"
   ]
  },
  {
   "cell_type": "code",
   "execution_count": 152,
   "id": "3d445889",
   "metadata": {},
   "outputs": [
    {
     "name": "stdout",
     "output_type": "stream",
     "text": [
      "the gender with the highiest birth is >> M\n",
      "the gender with the lowest birth is >> F\n"
     ]
    }
   ],
   "source": [
    "print(\"the gender with the highiest birth is >>\", one[\"gender\"][one[\"births\"].argmax()])\n",
    "print(\"the gender with the lowest birth is >>\", one[\"gender\"][one[\"births\"].argmin()])"
   ]
  },
  {
   "cell_type": "code",
   "execution_count": 154,
   "id": "d2ae3e75",
   "metadata": {},
   "outputs": [
    {
     "name": "stdout",
     "output_type": "stream",
     "text": [
      "the year with the highiest birth is >> 2007\n",
      "the year with the lowest birth is >> 1975\n"
     ]
    }
   ],
   "source": [
    "print(\"the year with the highiest birth is >>\", one[\"year\"][one[\"births\"].argmax()])\n",
    "print(\"the year with the lowest birth is >>\", one[\"year\"][one[\"births\"].argmin()])"
   ]
  }
 ],
 "metadata": {
  "kernelspec": {
   "display_name": "Python 3",
   "language": "python",
   "name": "python3"
  },
  "language_info": {
   "codemirror_mode": {
    "name": "ipython",
    "version": 3
   },
   "file_extension": ".py",
   "mimetype": "text/x-python",
   "name": "python",
   "nbconvert_exporter": "python",
   "pygments_lexer": "ipython3",
   "version": "3.8.8"
  }
 },
 "nbformat": 4,
 "nbformat_minor": 5
}
